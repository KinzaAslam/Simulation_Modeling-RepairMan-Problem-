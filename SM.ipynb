{
  "nbformat": 4,
  "nbformat_minor": 0,
  "metadata": {
    "colab": {
      "provenance": [],
      "authorship_tag": "ABX9TyN8lUhde502hSfM473mrLXA",
      "include_colab_link": true
    },
    "kernelspec": {
      "name": "python3",
      "display_name": "Python 3"
    },
    "language_info": {
      "name": "python"
    }
  },
  "cells": [
    {
      "cell_type": "markdown",
      "metadata": {
        "id": "view-in-github",
        "colab_type": "text"
      },
      "source": [
        "<a href=\"https://colab.research.google.com/github/KinzaAslam/Simulation_Modeling-RepairMan-Problem-/blob/main/SM.ipynb\" target=\"_parent\"><img src=\"https://colab.research.google.com/assets/colab-badge.svg\" alt=\"Open In Colab\"/></a>"
      ]
    },
    {
      "cell_type": "code",
      "source": [
        "import math\n",
        "\n",
        "# Sample Z-Table (small excerpt)\n",
        "z_table = {\n",
        "    -2.1: {0.00: 0.0179, 0.01: 0.0174, 0.02: 0.0170, 0.03: 0.0166},\n",
        "    -0.8: {0.00: 0.2119, 0.01: 0.2088, 0.02: 0.2059, 0.03: 0.2027},\n",
        "    -0.9: {0.00: 0.1841, 0.01: 0.1808, 0.02: 0.1772, 0.03: 0.1743}\n",
        "}\n",
        "\n",
        "def display_z_table(z_row):\n",
        "    \"\"\"Display a relevant part of the Z-table.\"\"\"\n",
        "    print(f\"\\nZ-Table for Z = {z_row}\")\n",
        "    print(\"| Col  | 0.00 | 0.01 | 0.02 | 0.03 |\")\n",
        "    print(\"|------|------|------|------|------|\")\n",
        "    values = z_table.get(z_row, {})\n",
        "    row = f\"| {z_row:4.1f} |\" + \"\".join(f\" {v:.4f} |\" for v in values.values())\n",
        "    print(row)\n",
        "\n",
        "def calculate_repairman_problem(mean_breakdown, std_breakdown, mean_repair, std_repair):\n",
        "    # Step 1: Calculate mean and variance of D = T_B - T_R\n",
        "    print(\"\\n--- Step 1: Calculate Mean, Variance, and Std Dev ---\")\n",
        "    mean_D = mean_breakdown - mean_repair\n",
        "    print(f\"Mean of D (μ_D) = {mean_breakdown} - {mean_repair} = {mean_D}\")\n",
        "\n",
        "    variance_D = (std_breakdown ** 2) + (std_repair ** 2)\n",
        "    print(f\"Variance of D (σ_D²) = {std_breakdown}² + {std_repair}² = {variance_D}\")\n",
        "\n",
        "    std_D = math.sqrt(variance_D)\n",
        "    print(f\"Standard Deviation of D (σ_D) = √{variance_D} = {std_D}\")\n",
        "\n",
        "    # Step 2: Calculate Z-value\n",
        "    Z = (0 - mean_D) / std_D\n",
        "    print(f\"\\n--- Step 2: Calculate Z-Value for D < 0 ---\")\n",
        "    print(f\"Z = (0 - {mean_D}) / {std_D} = {Z:.2f}\")\n",
        "\n",
        "    z_row = round(Z, 1)\n",
        "    z_col = round(Z - z_row, 2)\n",
        "\n",
        "    # Display relevant part of Z-table\n",
        "    display_z_table(z_row)\n",
        "\n",
        "    # Step 3: User inputs probability from Z-table\n",
        "    prob_breakdown_before_repair = float(input(f\"\\nEnter the probability for Z = {Z:.2f} from the table: \"))\n",
        "\n",
        "    # Step 4: Calculate expected events and total time until halt\n",
        "    print(\"\\n--- Step 4: Calculate Expected Events and Total Time ---\")\n",
        "    expected_events = 5 / prob_breakdown_before_repair\n",
        "    print(f\"Expected Events = 5 / {prob_breakdown_before_repair:.4f} = {expected_events:.2f}\")\n",
        "\n",
        "    average_time_per_event = (mean_breakdown + mean_repair) / 2\n",
        "    print(f\"Average Time per Event = ({mean_breakdown} + {mean_repair}) / 2 = {average_time_per_event}\")\n",
        "\n",
        "    expected_time = expected_events * average_time_per_event\n",
        "    print(f\"Expected Total Time = {expected_events:.2f} × {average_time_per_event} = {expected_time:.2f} time units\")\n",
        "\n",
        "    # Display final results\n",
        "    print(\"\\n--- Final Results ---\")\n",
        "    print(f\"Probability of Breakdown Before Repair: {prob_breakdown_before_repair:.4f}\")\n",
        "    print(f\"Expected Number of Events Until Halt: {expected_events:.2f}\")\n",
        "    print(f\"Expected Total Time Until Halt: {expected_time:.2f} time units\")\n",
        "\n",
        "if __name__ == \"__main__\":\n",
        "    print(\"Repairman Problem Calculation\\n\")\n",
        "\n",
        "    # Input breakdown and repair statistics\n",
        "    mean_breakdown = float(input(\"Enter Mean Breakdown Time (T_B): \"))\n",
        "    std_breakdown = float(input(\"Enter Std Dev Breakdown Time (σ_B): \"))\n",
        "    mean_repair = float(input(\"Enter Mean Repair Time (T_R): \"))\n",
        "    std_repair = float(input(\"Enter Std Dev Repair Time (σ_R): \"))\n",
        "\n",
        "    calculate_repairman_problem(mean_breakdown, std_breakdown, mean_repair, std_repair)\n"
      ],
      "metadata": {
        "colab": {
          "base_uri": "https://localhost:8080/"
        },
        "id": "RtIjXA54IeZD",
        "outputId": "2a2a388c-a815-4771-af0d-1ba711dbb55e"
      },
      "execution_count": 1,
      "outputs": [
        {
          "output_type": "stream",
          "name": "stdout",
          "text": [
            "Repairman Problem Calculation\n",
            "\n",
            "Enter Mean Breakdown Time (T_B): 300\n",
            "Enter Std Dev Breakdown Time (σ_B): 80\n",
            "Enter Mean Repair Time (T_R): 100\n",
            "Enter Std Dev Repair Time (σ_R): 50\n",
            "\n",
            "--- Step 1: Calculate Mean, Variance, and Std Dev ---\n",
            "Mean of D (μ_D) = 300.0 - 100.0 = 200.0\n",
            "Variance of D (σ_D²) = 80.0² + 50.0² = 8900.0\n",
            "Standard Deviation of D (σ_D) = √8900.0 = 94.33981132056604\n",
            "\n",
            "--- Step 2: Calculate Z-Value for D < 0 ---\n",
            "Z = (0 - 200.0) / 94.33981132056604 = -2.12\n",
            "\n",
            "Z-Table for Z = -2.1\n",
            "| Col  | 0.00 | 0.01 | 0.02 | 0.03 |\n",
            "|------|------|------|------|------|\n",
            "| -2.1 | 0.0179 | 0.0174 | 0.0170 | 0.0166 |\n",
            "\n",
            "Enter the probability for Z = -2.12 from the table: 0.0170\n",
            "\n",
            "--- Step 4: Calculate Expected Events and Total Time ---\n",
            "Expected Events = 5 / 0.0170 = 294.12\n",
            "Average Time per Event = (300.0 + 100.0) / 2 = 200.0\n",
            "Expected Total Time = 294.12 × 200.0 = 58823.53 time units\n",
            "\n",
            "--- Final Results ---\n",
            "Probability of Breakdown Before Repair: 0.0170\n",
            "Expected Number of Events Until Halt: 294.12\n",
            "Expected Total Time Until Halt: 58823.53 time units\n"
          ]
        }
      ]
    }
  ]
}